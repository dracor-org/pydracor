{
 "cells": [
  {
   "cell_type": "markdown",
   "metadata": {},
   "source": [
    "## `DraCor` Class"
   ]
  },
  {
   "cell_type": "code",
   "execution_count": 43,
   "metadata": {},
   "outputs": [],
   "source": [
    "import requests\n",
    "import json"
   ]
  },
  {
   "cell_type": "code",
   "execution_count": 77,
   "metadata": {},
   "outputs": [],
   "source": [
    "# DraCor-Class\n",
    "class DraCor:\n",
    "       \n",
    "    baseurl = \"https://dracor.org/api/\"\n",
    "    \n",
    "    # Get information on the DraCor-API by calling /info\n",
    "    def info(self):\n",
    "        r = requests.get(self.baseurl + \"info\")\n",
    "        response = json.loads(r.text)\n",
    "        return response\n",
    "    \n",
    "    # Get all corpora \n",
    "    def getCorpora(self):\n",
    "        r = requests.get(self.baseurl + \"corpora\")\n",
    "        response = json.loads(r.text)\n",
    "        return response\n",
    "    \n",
    "    #  Get corpus names as list\n",
    "    def getCorpusNames(self):\n",
    "        corpora = self.getCorpora()\n",
    "        names = []\n",
    "        for corpus in corpora:\n",
    "            name = corpus['name']\n",
    "            names.append(name)\n",
    "        return names\n",
    "            \n",
    "        \n",
    "        \n",
    "        \n",
    "        \n",
    "        \n",
    "        "
   ]
  },
  {
   "cell_type": "code",
   "execution_count": 78,
   "metadata": {},
   "outputs": [],
   "source": [
    "test = DraCor()"
   ]
  },
  {
   "cell_type": "code",
   "execution_count": 79,
   "metadata": {},
   "outputs": [
    {
     "data": {
      "text/plain": [
       "'https://dracor.org/api/'"
      ]
     },
     "execution_count": 79,
     "metadata": {},
     "output_type": "execute_result"
    }
   ],
   "source": [
    "test.baseurl"
   ]
  },
  {
   "cell_type": "code",
   "execution_count": 80,
   "metadata": {},
   "outputs": [
    {
     "data": {
      "text/plain": [
       "{'name': 'DraCor API',\n",
       " 'status': 'alpha',\n",
       " 'existdb': '4.7.0',\n",
       " 'version': '0.55.0'}"
      ]
     },
     "execution_count": 80,
     "metadata": {},
     "output_type": "execute_result"
    }
   ],
   "source": [
    "# Get Info on DraCor\n",
    "test.info()"
   ]
  },
  {
   "cell_type": "code",
   "execution_count": 81,
   "metadata": {},
   "outputs": [
    {
     "data": {
      "text/plain": [
       "[{'repository': 'https://github.com/dracor-org/gerdracor',\n",
       "  'name': 'ger',\n",
       "  'uri': 'https://dracor.org/api/corpora/ger',\n",
       "  'title': 'German Drama Corpus'},\n",
       " {'repository': 'https://github.com/dracor-org/greekdracor',\n",
       "  'name': 'greek',\n",
       "  'uri': 'https://dracor.org/api/corpora/greek',\n",
       "  'title': 'Greek Drama Corpus'},\n",
       " {'repository': 'https://github.com/dracor-org/romdracor',\n",
       "  'name': 'rom',\n",
       "  'uri': 'https://dracor.org/api/corpora/rom',\n",
       "  'title': 'Roman Drama Corpus'},\n",
       " {'repository': 'https://github.com/dracor-org/rusdracor',\n",
       "  'name': 'rus',\n",
       "  'uri': 'https://dracor.org/api/corpora/rus',\n",
       "  'title': 'Russian Drama Corpus'},\n",
       " {'repository': 'https://github.com/dracor-org/shakedracor',\n",
       "  'name': 'shake',\n",
       "  'uri': 'https://dracor.org/api/corpora/shake',\n",
       "  'title': 'Shakespeare Drama Corpus'},\n",
       " {'repository': 'https://github.com/dracor-org/spandracor',\n",
       "  'name': 'span',\n",
       "  'uri': 'https://dracor.org/api/corpora/span',\n",
       "  'title': 'Spanish Drama Corpus'},\n",
       " {'repository': 'https://github.com/dracor-org/swedracor',\n",
       "  'name': 'swe',\n",
       "  'uri': 'https://dracor.org/api/corpora/swe',\n",
       "  'title': 'Swedish Drama Corpus'}]"
      ]
     },
     "execution_count": 81,
     "metadata": {},
     "output_type": "execute_result"
    }
   ],
   "source": [
    "# Get Corpora\n",
    "test.getCorpora()"
   ]
  },
  {
   "cell_type": "code",
   "execution_count": 82,
   "metadata": {},
   "outputs": [
    {
     "data": {
      "text/plain": [
       "['ger', 'greek', 'rom', 'rus', 'shake', 'span', 'swe']"
      ]
     },
     "execution_count": 82,
     "metadata": {},
     "output_type": "execute_result"
    }
   ],
   "source": [
    "test.getCorpusNames()"
   ]
  },
  {
   "cell_type": "code",
   "execution_count": null,
   "metadata": {},
   "outputs": [],
   "source": []
  }
 ],
 "metadata": {
  "kernelspec": {
   "display_name": "Python 3",
   "language": "python",
   "name": "python3"
  },
  "language_info": {
   "codemirror_mode": {
    "name": "ipython",
    "version": 3
   },
   "file_extension": ".py",
   "mimetype": "text/x-python",
   "name": "python",
   "nbconvert_exporter": "python",
   "pygments_lexer": "ipython3",
   "version": "3.7.0"
  }
 },
 "nbformat": 4,
 "nbformat_minor": 2
}
